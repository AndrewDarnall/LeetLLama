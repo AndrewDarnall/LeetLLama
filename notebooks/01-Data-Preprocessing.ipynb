{
 "cells": [
  {
   "cell_type": "markdown",
   "id": "65531627-897c-42e0-9ee1-7e3f12473213",
   "metadata": {},
   "source": [
    "# Data Preprocessing (TODO BETTER TEXT)"
   ]
  },
  {
   "cell_type": "code",
   "execution_count": null,
   "id": "2ba303f4-fdda-4a93-aeec-9db66c70e8cd",
   "metadata": {},
   "outputs": [],
   "source": [
    "# Load the TRANSFORMERS_CACHE env variable in order to control where the LLM's weights will be downloaded to\n",
    "from dotenv import load_dotenv\n",
    "load_dotenv()\n",
    "\n",
    "import os\n",
    "cache_dir = os.environ[\"HF_HOME\"]"
   ]
  },
  {
   "cell_type": "code",
   "execution_count": null,
   "id": "4577b148-f05d-4c46-ba6f-0437aa2475ac",
   "metadata": {},
   "outputs": [],
   "source": [
    "# Download the Code LLaMA 7B Model from HuggingFace\n",
    "from transformers import AutoModelForCausalLM, AutoTokenizer\n",
    "\n",
    "model_name = \"codellama/CodeLlama-7b-Instruct-hf\"\n",
    "model = AutoModelForCausalLM.from_pretrained(model_name, load_in_8bit=True, device_map=\"auto\", cache_dir=cache_dir)\n",
    "tokenizer = AutoTokenizer.from_pretrained(model_name, cache_dir=cache_dir)"
   ]
  },
  {
   "cell_type": "code",
   "execution_count": null,
   "id": "89afbdc7-c5ee-4585-a433-ec6361e0f38f",
   "metadata": {},
   "outputs": [],
   "source": [
    "# Download the Microsoft Phi-2 model from Hugging Face\n",
    "model_name = \"microsoft/phi-2\"\n",
    "model = AutoModelForCausalLM.from_pretrained(model_name, load_in_8bit=True, device_map=\"auto\", cache_dir=cache_dir)\n",
    "tokenizer = AutoTokenizer.from_pretrained(model_name, cache_dir=cache_dir)"
   ]
  },
  {
   "cell_type": "code",
   "execution_count": null,
   "id": "2fd9410a-4c74-4548-8e54-b8a93e4b1a0f",
   "metadata": {},
   "outputs": [],
   "source": [
    "# Download the DeepSeek Coder 6.7B model from HuggingFace\n",
    "model_name = \"deepseek-ai/deepseek-coder-6.7b-base\"\n",
    "tokenizer = AutoTokenizer.from_pretrained(model_name, cache_dir=cache_dir)\n",
    "model = AutoModelForCausalLM.from_pretrained(model_name, load_in_8bit=True, device_map=\"auto\", cache_dir=cache_dir)"
   ]
  },
  {
   "cell_type": "code",
   "execution_count": null,
   "id": "e8561a8e-228f-49ab-8232-ad8dc3e35d95",
   "metadata": {},
   "outputs": [],
   "source": []
  }
 ],
 "metadata": {
  "kernelspec": {
   "display_name": "Python 3 (ipykernel)",
   "language": "python",
   "name": "python3"
  },
  "language_info": {
   "codemirror_mode": {
    "name": "ipython",
    "version": 3
   },
   "file_extension": ".py",
   "mimetype": "text/x-python",
   "name": "python",
   "nbconvert_exporter": "python",
   "pygments_lexer": "ipython3",
   "version": "3.11.13"
  }
 },
 "nbformat": 4,
 "nbformat_minor": 5
}
