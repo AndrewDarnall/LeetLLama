{
 "cells": [
  {
   "cell_type": "markdown",
   "id": "24e6024c-9816-4bff-8ef8-c53efb0a962f",
   "metadata": {},
   "source": [
    "# Classic RAG Model Evaluation\n",
    "\n",
    "Evaluate the models with ***Classic RAG*** under two circumstances:\n",
    "\n",
    "1) Only the dataset as the ***knowledge base***\n",
    "2) Dataset AND ***programming language*** docs as knowledge base\n",
    "\n",
    "---\n",
    "\n",
    "Evaluate on the:\n",
    "\n",
    "1) ***Pass@k*** metric\n",
    "2) ***Recall@k and Precision@k***"
   ]
  },
  {
   "cell_type": "code",
   "execution_count": null,
   "id": "50731432-1d79-4657-aba7-b92e06d78911",
   "metadata": {},
   "outputs": [],
   "source": []
  }
 ],
 "metadata": {
  "kernelspec": {
   "display_name": "Python 3 (ipykernel)",
   "language": "python",
   "name": "python3"
  },
  "language_info": {
   "codemirror_mode": {
    "name": "ipython",
    "version": 3
   },
   "file_extension": ".py",
   "mimetype": "text/x-python",
   "name": "python",
   "nbconvert_exporter": "python",
   "pygments_lexer": "ipython3",
   "version": "3.11.13"
  }
 },
 "nbformat": 4,
 "nbformat_minor": 5
}
