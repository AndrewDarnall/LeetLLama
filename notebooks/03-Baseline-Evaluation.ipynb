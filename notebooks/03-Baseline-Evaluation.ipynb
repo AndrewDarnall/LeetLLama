{
 "cells": [
  {
   "cell_type": "markdown",
   "id": "3e9e8c48-3db5-4006-969f-f6bcba26ff05",
   "metadata": {},
   "source": [
    "# Baseline Model Evaluation\n",
    "\n",
    "(TODO-EXPAND) Evaluate the base model on the ***Pass@k*** metric\n",
    "\n",
    "---"
   ]
  },
  {
   "cell_type": "code",
   "execution_count": null,
   "id": "fcb28c8a-e131-4e61-bc36-7c342db47e8e",
   "metadata": {},
   "outputs": [],
   "source": []
  }
 ],
 "metadata": {
  "kernelspec": {
   "display_name": "Python 3 (ipykernel)",
   "language": "python",
   "name": "python3"
  },
  "language_info": {
   "codemirror_mode": {
    "name": "ipython",
    "version": 3
   },
   "file_extension": ".py",
   "mimetype": "text/x-python",
   "name": "python",
   "nbconvert_exporter": "python",
   "pygments_lexer": "ipython3",
   "version": "3.11.13"
  }
 },
 "nbformat": 4,
 "nbformat_minor": 5
}
