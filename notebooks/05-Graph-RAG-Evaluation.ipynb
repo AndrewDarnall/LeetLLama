{
 "cells": [
  {
   "cell_type": "markdown",
   "id": "1a89b1d8-a39f-45c1-96e3-efc9b6c9dc65",
   "metadata": {},
   "source": [
    "# Graph RAG Model Evaluation\n",
    "\n",
    "Evaluate the models with ***Graph RAG*** under two circumstances:\n",
    "\n",
    "1) Only the dataset as the ***knowledge base***\n",
    "2) Dataset AND ***programming language*** docs as knowledge base\n",
    "\n",
    "---\n",
    "\n",
    "Evaluate on the:\n",
    "\n",
    "1) ***Pass@k*** metric\n",
    "2) ***Recall@k and Precision@k***"
   ]
  },
  {
   "cell_type": "markdown",
   "id": "a7f3fec2-cdc6-47c3-addb-b5bb94247c68",
   "metadata": {},
   "source": [
    "### Dense GraphRAG\n",
    "\n",
    "Best consolidated structure for ***GraphRAG***\n",
    "\n",
    "User Question\n",
    "    ↓\n",
    "[Neo4j] --[entity graph traversal]--> Structured context\n",
    "[Milvus] --[embedding retrieval]--> Unstructured context\n",
    "    ↓\n",
    "[LLM] <- Combined context\n",
    "    ↓\n",
    "Answer\n"
   ]
  },
  {
   "cell_type": "code",
   "execution_count": null,
   "id": "6e3bb081-ecca-4ad7-be0b-0cb0760b22a1",
   "metadata": {},
   "outputs": [],
   "source": []
  }
 ],
 "metadata": {
  "kernelspec": {
   "display_name": "Python 3 (ipykernel)",
   "language": "python",
   "name": "python3"
  },
  "language_info": {
   "codemirror_mode": {
    "name": "ipython",
    "version": 3
   },
   "file_extension": ".py",
   "mimetype": "text/x-python",
   "name": "python",
   "nbconvert_exporter": "python",
   "pygments_lexer": "ipython3",
   "version": "3.11.13"
  }
 },
 "nbformat": 4,
 "nbformat_minor": 5
}
